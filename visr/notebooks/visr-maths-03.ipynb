{
 "cells": [
  {
   "cell_type": "markdown",
   "id": "3d0f9442-823a-4ba8-afaf-ef5972d6a5f1",
   "metadata": {},
   "source": [
    "A script/jupyter notebook containing the logic to reproduce a colour RGB image of the sample from the detector data"
   ]
  },
  {
   "cell_type": "markdown",
   "id": "505e3df1",
   "metadata": {},
   "source": [
    "# Demo of Maths Needed for VISR Spectroscopy"
   ]
  },
  {
   "cell_type": "code",
   "execution_count": null,
   "id": "07dd3b45-44e7-487c-8a63-b30844f1ca43",
   "metadata": {},
   "outputs": [],
   "source": [
    "# Dependencies\n",
    "\n",
    "import h5py\n",
    "import numpy as np\n",
    "import matplotlib.pyplot as plt\n",
    "\n",
    "from pathlib import Path\n",
    "from numpy.typing import NDArray"
   ]
  },
  {
   "cell_type": "code",
   "execution_count": null,
   "id": "492e4787-9cb4-4230-92a5-ae65782a31a8",
   "metadata": {},
   "outputs": [],
   "source": [
    "input_hdf5_file_path = Path(inpath)"
   ]
  },
  {
   "cell_type": "code",
   "execution_count": null,
   "id": "85d69aa1-8472-4239-ae32-b91779d65d05",
   "metadata": {},
   "outputs": [],
   "source": [
    "def list_file_contents(input_hdf5_file_path: Path) -> None:\n",
    "    with h5py.File(input_hdf5_file_path) as file:\n",
    "        # file.visit(print)\n",
    "        def print_dataset_and_group(name, obj):\n",
    "            if isinstance(obj, h5py.Dataset):\n",
    "                print(f\"Dataset: {name}, shape: {obj.shape}, dtype: {obj.dtype}\")\n",
    "            elif isinstance(obj, h5py.Group):\n",
    "                print(f\"Group: {name}\")\n",
    "\n",
    "        file.visititems(print_dataset_and_group)\n",
    "\n",
    "\n",
    "list_file_contents(input_hdf5_file_path)"
   ]
  },
  {
   "cell_type": "code",
   "execution_count": null,
   "id": "52d2bc76-7288-44b4-b1e4-c2c620f3afa2",
   "metadata": {},
   "outputs": [],
   "source": [
    "def load_image_from_file(input_hdf5_file_path: Path) -> NDArray[np.uint8]:\n",
    "    with h5py.File(input_hdf5_file_path) as file:\n",
    "        images = np.array(file[\"/entry/data/data\"])\n",
    "    return images\n",
    "\n",
    "\n",
    "images = load_image_from_file(input_hdf5_file_path)"
   ]
  },
  {
   "cell_type": "code",
   "execution_count": null,
   "id": "6890bbef-5439-4efa-95f6-02ef5828eaeb",
   "metadata": {},
   "outputs": [],
   "source": [
    "def plot_full_image(images: NDArray[np.uint8], index: int) -> None:\n",
    "    plt.imshow(images[index])\n",
    "\n",
    "\n",
    "plot_full_image(images, 0)"
   ]
  },
  {
   "cell_type": "code",
   "execution_count": null,
   "id": "60387d34-f0b0-4d3f-b030-ad2e3b6e80dd",
   "metadata": {},
   "outputs": [],
   "source": [
    "from dataclasses import dataclass\n",
    "\n",
    "\n",
    "def load_raw_photo_sensor_rgb_values(input_hdf5_file_path: Path) -> NDArray[np.int32]:\n",
    "    with h5py.File(input_hdf5_file_path) as file:\n",
    "        red_name = \"entry/instrument/NDAttributes/RedTotal\"\n",
    "        green_name = \"entry/instrument/NDAttributes/GreenTotal\"\n",
    "        blue_name = \"entry/instrument/NDAttributes/BlueTotal\"\n",
    "        dtype = np.int32\n",
    "        red = np.array(file[red_name], dtype=dtype)\n",
    "        green = np.array(file[green_name], dtype=dtype)\n",
    "        blue = np.array(file[blue_name], dtype=dtype)\n",
    "        if not red.shape == green.shape == blue.shape:\n",
    "            raise ValueError(\"invalid input data RBG array shapes don't match\")\n",
    "        rgb = np.vstack((red, green, blue))\n",
    "        assert rgb.shape == (3, red.shape[0])\n",
    "        return rgb\n",
    "\n",
    "\n",
    "raw_rgb_values = load_raw_photo_sensor_rgb_values(input_hdf5_file_path)"
   ]
  },
  {
   "cell_type": "code",
   "execution_count": null,
   "id": "bf33360a-7c0e-4c9e-bf14-6ee192d98d73",
   "metadata": {},
   "outputs": [],
   "source": [
    "def convert_1d_array_to_2d_grid(\n",
    "    raw_rgb_values: NDArray[np.int32], grid_shape: tuple[int, int]\n",
    ") -> NDArray[np.int32]:\n",
    "    new_shape = (3,) + grid_shape\n",
    "    return np.reshape(raw_rgb_values, shape=new_shape)\n",
    "\n",
    "\n",
    "def normalize_rgb_values(raw_rgb_values: NDArray[np.int32]) -> NDArray[np.float64]:\n",
    "    return raw_rgb_values / float(np.max(raw_rgb_values))\n",
    "\n",
    "\n",
    "def process_raw_rgb_values(\n",
    "    raw_rgb_values: NDArray[np.int32], grid_shape: tuple[int, int]\n",
    ") -> NDArray[np.float64]:\n",
    "    return normalize_rgb_values(convert_1d_array_to_2d_grid(raw_rgb_values, grid_shape))\n",
    "\n",
    "total_number_of_scan_points = raw_rgb_values.size // 3\n",
    "# demo_spectroscopy scan always has equal steps in x and y\n",
    "xsteps = ysteps = int(round(np.sqrt(max(total_number_of_scan_points, 1))))\n",
    "grid_shape = (xsteps, ysteps)\n",
    "rgb_values = process_raw_rgb_values(raw_rgb_values, grid_shape)"
   ]
  },
  {
   "cell_type": "code",
   "execution_count": null,
   "id": "ac73cee7-f4fd-4f2c-b359-c42d72f0ac81",
   "metadata": {},
   "outputs": [],
   "source": [
    "def plot_histogram_rbg_values(rgb_values: NDArray[np.float64]) -> plt.Figure:\n",
    "    fig = plt.figure()\n",
    "    ax = fig.add_subplot(111)\n",
    "    hist_range = np.min(rgb_values), np.max(rgb_values)\n",
    "    num_bins = 100\n",
    "    r = np.ravel(rgb_values[0])\n",
    "    g = np.ravel(rgb_values[1])\n",
    "    b = np.ravel(rgb_values[2])\n",
    "    ax.hist(r, bins=num_bins, range=hist_range, color=\"red\", alpha=0.5, label=\"red\")\n",
    "    ax.hist(g, bins=num_bins, range=hist_range, color=\"green\", alpha=0.5, label=\"green\")\n",
    "    ax.hist(b, bins=num_bins, range=hist_range, color=\"blue\", alpha=0.5, label=\"blue\")\n",
    "    ax.legend()\n",
    "    fig.tight_layout()\n",
    "    return fig\n",
    "\n",
    "\n",
    "_ = plot_histogram_rbg_values(rgb_values)"
   ]
  },
  {
   "cell_type": "code",
   "execution_count": null,
   "id": "417babc7-abfc-4163-9dfb-4dd2fc1c34e9",
   "metadata": {},
   "outputs": [],
   "source": [
    "def plot_rgb_image(rgb_values: NDArray[np.float64]) -> plt.Figure:\n",
    "    fig = plt.figure()\n",
    "    ax = fig.add_subplot(111)\n",
    "    rgb_image = np.transpose(rgb_values, (1, 2, 0))\n",
    "    ax.imshow(rgb_image)\n",
    "    ax.set_xlabel(\"x measurement index\")\n",
    "    ax.set_ylabel(\"y measurement index\")\n",
    "    ax.set_title(\"Visr Scan\")\n",
    "    fig.tight_layout()\n",
    "    return fig\n",
    "\n",
    "\n",
    "_ = plot_rgb_image(rgb_values)"
   ]
  },
  {
   "cell_type": "code",
   "execution_count": null,
   "id": "5f364b05-c3ac-4d94-83a4-e402e96fcda0",
   "metadata": {},
   "outputs": [],
   "source": [
    "def plot_rgb_channels(rgb_values: NDArray[np.float64]) -> plt.Figure:\n",
    "    red = rgb_values[0]\n",
    "    green = rgb_values[1]\n",
    "    blue = rgb_values[2]\n",
    "\n",
    "    # Plot each channel\n",
    "    fig, axs = plt.subplots(1, 3, figsize=(12, 4))\n",
    "\n",
    "    axs[0].imshow(red, cmap=\"Reds\")\n",
    "    axs[0].set_title(\"Red\")\n",
    "    axs[0].axis(\"off\")\n",
    "\n",
    "    axs[1].imshow(green, cmap=\"Greens\")\n",
    "    axs[1].set_title(\"Green\")\n",
    "    axs[1].axis(\"off\")\n",
    "\n",
    "    axs[2].imshow(blue, cmap=\"Blues\")\n",
    "    axs[2].set_title(\"Blue\")\n",
    "    axs[2].axis(\"off\")\n",
    "\n",
    "    fig.tight_layout()\n",
    "    return fig\n",
    "\n",
    "\n",
    "_ = plot_rgb_channels(rgb_values)"
   ]
  },
  {
   "cell_type": "code",
   "execution_count": null,
   "id": "1b4c3351-f415-4287-9ec3-d8628dbd8bb3",
   "metadata": {},
   "outputs": [],
   "source": [
    "def plot_grayscale(rgb_values: NDArray[np.float64]) -> plt.Figure:\n",
    "    grayscale = np.mean(rgb_values, axis=0)\n",
    "    fig = plt.figure()\n",
    "    ax = fig.add_subplot(111)\n",
    "    ax.imshow(grayscale, cmap=\"gray\")\n",
    "    ax.set_title(\"Grayscale\")\n",
    "    ax.axis(\"off\")\n",
    "    return fig\n",
    "\n",
    "\n",
    "_ = plot_grayscale(rgb_values)"
   ]
  }
 ],
 "metadata": {
  "kernelspec": {
   "display_name": "Python 3 (ipykernel)",
   "language": "python",
   "name": "python3"
  },
  "language_info": {
   "codemirror_mode": {
    "name": "ipython",
    "version": 3
   },
   "file_extension": ".py",
   "mimetype": "text/x-python",
   "name": "python",
   "nbconvert_exporter": "python",
   "pygments_lexer": "ipython3",
   "version": "3.13.3"
  }
 },
 "nbformat": 4,
 "nbformat_minor": 5
}
